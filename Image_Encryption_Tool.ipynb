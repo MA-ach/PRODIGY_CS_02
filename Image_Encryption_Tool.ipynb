{
 "cells": [
  {
   "cell_type": "code",
   "execution_count": 1,
   "id": "d62f6b70",
   "metadata": {},
   "outputs": [],
   "source": [
    "from PIL import Image\n",
    "import numpy as np"
   ]
  },
  {
   "cell_type": "code",
   "execution_count": 2,
   "id": "70f05ac6",
   "metadata": {},
   "outputs": [],
   "source": [
    "def encrypt_image(image_path, key, output_path):\n",
    "    image = Image.open(image_path)\n",
    "    pixels = np.array(image)\n",
    "    \n",
    "    # Simple encryption: XOR each pixel with the key\n",
    "    encrypted_pixels = np.bitwise_xor(pixels, key)\n",
    "    \n",
    "    encrypted_image = Image.fromarray(encrypted_pixels)\n",
    "    encrypted_image.save(output_path)\n",
    "    print(f\"Image encrypted and saved to {output_path}\")\n",
    "\n",
    "def decrypt_image(encrypted_image_path, key, output_path):\n",
    "    encrypted_image = Image.open(encrypted_image_path)\n",
    "    encrypted_pixels = np.array(encrypted_image)\n",
    "    \n",
    "    # Simple decryption: XOR each pixel with the key\n",
    "    decrypted_pixels = np.bitwise_xor(encrypted_pixels, key)\n",
    "    \n",
    "    decrypted_image = Image.fromarray(decrypted_pixels)\n",
    "    decrypted_image.save(output_path)\n",
    "    print(f\"Image decrypted and saved to {output_path}\")\n"
   ]
  },
  {
   "cell_type": "code",
   "execution_count": 3,
   "id": "99f16bf5",
   "metadata": {},
   "outputs": [],
   "source": [
    "def get_key():\n",
    "    while True:\n",
    "        try:\n",
    "            key = int(input(\"Enter a key (0-255): \"))\n",
    "            if 0 <= key <= 255:\n",
    "                return key\n",
    "            else:\n",
    "                print(\"Key must be between 0 and 255.\")\n",
    "        except ValueError:\n",
    "            print(\"Invalid input. Please enter an integer.\")\n"
   ]
  },
  {
   "cell_type": "code",
   "execution_count": 4,
   "id": "825b8d64",
   "metadata": {},
   "outputs": [
    {
     "name": "stdout",
     "output_type": "stream",
     "text": [
      "Image encrypted and saved to encrypted_test_image.jpg\n",
      "Image decrypted and saved to decrypted_test_image.jpg\n"
     ]
    }
   ],
   "source": [
    "# Set file paths and key\n",
    "input_image = 'sample_image.jpg'\n",
    "encrypted_image = 'encrypted_test_image.jpg'\n",
    "decrypted_image = 'decrypted_test_image.jpg'\n",
    "key = 123  # Example key\n",
    "\n",
    "# Encrypt the image\n",
    "encrypt_image(input_image, key, encrypted_image)\n",
    "\n",
    "# Decrypt the image\n",
    "decrypt_image(encrypted_image, key, decrypted_image)\n"
   ]
  },
  {
   "cell_type": "code",
   "execution_count": null,
   "id": "aae554e2",
   "metadata": {},
   "outputs": [],
   "source": []
  }
 ],
 "metadata": {
  "kernelspec": {
   "display_name": "Python 3 (ipykernel)",
   "language": "python",
   "name": "python3"
  },
  "language_info": {
   "codemirror_mode": {
    "name": "ipython",
    "version": 3
   },
   "file_extension": ".py",
   "mimetype": "text/x-python",
   "name": "python",
   "nbconvert_exporter": "python",
   "pygments_lexer": "ipython3",
   "version": "3.11.7"
  }
 },
 "nbformat": 4,
 "nbformat_minor": 5
}
